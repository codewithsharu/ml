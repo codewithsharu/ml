{
 "cells": [
  {
   "cell_type": "code",
   "execution_count": 4,
   "id": "211a6813-9dca-48b6-afc9-89c3fe0c39fa",
   "metadata": {},
   "outputs": [
    {
     "name": "stdout",
     "output_type": "stream",
     "text": [
      "Final Specific Boundary (S): ['Sunny', 'Warm', '?', 'Strong', '?', '?']\n",
      "Final General Boundary (G): [['?', '?', 'High', '?', '?', '?'], ['?', '?', '?', 'Strong', '?', '?'], ['?', '?', '?', '?', '?', 'Change']]\n"
     ]
    }
   ],
   "source": [
    "import pandas as pd\n",
    "import numpy as np\n",
    "\n",
    "# Load the dataset\n",
    "data = pd.read_csv('finds.csv')\n",
    "\n",
    "# Separate the features and target\n",
    "X = data.iloc[:, :-1]\n",
    "y = data.iloc[:, -1]\n",
    "\n",
    "# Initialize S with the most specific hypothesis\n",
    "S = ['0'] * len(X.columns)\n",
    "\n",
    "# Initialize G with the most general hypothesis\n",
    "G = [['?' for _ in range(len(X.columns))]]\n",
    "\n",
    "# Candidate-Elimination Algorithm\n",
    "# Loop through each training example\n",
    "for i, example in enumerate(X.values):\n",
    "    if y[i] == 'Yes':  # For positive examples\n",
    "        # Make the specific hypothesis S more general to match the example\n",
    "        for j in range(len(S)):\n",
    "            if S[j] == '0':  # If it's too specific, make it match the example\n",
    "                S[j] = example[j]\n",
    "            elif S[j] != example[j]:  # If it doesn't match, make it '?'\n",
    "                S[j] = '?'\n",
    "        \n",
    "        # Remove any hypothesis from G that doesn't match the positive example\n",
    "        G = [g for g in G if all(g[k] == '?' or g[k] == example[k] for k in range(len(g)))]\n",
    "\n",
    "    elif y[i] == 'No':  # For negative examples\n",
    "        # Make the general hypothesis G more specific\n",
    "        new_G = []\n",
    "        for g in G:\n",
    "            for j in range(len(g)):\n",
    "                if g[j] == '?':  # Specialize by making it match the example\n",
    "                    new_hypothesis = g.copy()\n",
    "                    new_hypothesis[j] = example[j]\n",
    "                    new_G.append(new_hypothesis)\n",
    "        \n",
    "        G = new_G  # Update G\n",
    "\n",
    "# Print final S and G\n",
    "print(\"Final Specific Boundary (S):\", S)\n",
    "print(\"Final General Boundary (G):\", G)\n"
   ]
  },
  {
   "cell_type": "code",
   "execution_count": null,
   "id": "a48c2ad5-073d-4076-a94f-3687db63dd31",
   "metadata": {},
   "outputs": [],
   "source": []
  }
 ],
 "metadata": {
  "kernelspec": {
   "display_name": "Python 3 (ipykernel)",
   "language": "python",
   "name": "python3"
  },
  "language_info": {
   "codemirror_mode": {
    "name": "ipython",
    "version": 3
   },
   "file_extension": ".py",
   "mimetype": "text/x-python",
   "name": "python",
   "nbconvert_exporter": "python",
   "pygments_lexer": "ipython3",
   "version": "3.12.4"
  }
 },
 "nbformat": 4,
 "nbformat_minor": 5
}
