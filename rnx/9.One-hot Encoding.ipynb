{
 "cells": [
  {
   "cell_type": "code",
   "execution_count": 19,
   "id": "42b1de25",
   "metadata": {},
   "outputs": [],
   "source": [
    "# importing libraries\n",
    "import pandas as pd\n",
    "import numpy as np\n",
    "from sklearn.preprocessing import OneHotEncoder"
   ]
  },
  {
   "cell_type": "code",
   "execution_count": 24,
   "id": "44b34c68",
   "metadata": {},
   "outputs": [],
   "source": [
    "# Retrieving data\n",
    "data = pd.read_csv('C:/Users/yug59/Downloads/archive(2)/ds.csv')"
   ]
  },
  {
   "cell_type": "code",
   "execution_count": 25,
   "id": "f5b9252a",
   "metadata": {},
   "outputs": [
    {
     "name": "stdout",
     "output_type": "stream",
     "text": [
      "    Emp ID First Name  Last Name  Salary  Gender_F  Gender_M\n",
      "0   677509       Lois     Walker  168251         1         0\n",
      "1   940761     Brenda   Robinson   51063         1         0\n",
      "2   428945        Joe   Robinson   50155         0         1\n",
      "3   408351      Diane      Evans  180294         1         0\n",
      "4   193819   Benjamin    Russell  117642         0         1\n",
      "5   499687    Patrick     Bailey   72305         0         1\n",
      "6   539712      Nancy      Baker   98189         1         0\n",
      "7   380086      Carol     Murphy   60918         1         0\n",
      "8   477616    Frances      Young  121587         1         0\n",
      "9   162402      Diana   Peterson   43010         1         0\n",
      "10  231469      Ralph     Flores  118457         0         1\n",
      "11  153989       Jack  Alexander   82965         0         1\n",
      "12  386158    Melissa       King  166892         1         0\n",
      "13  301576      Wayne     Watson   92758         0         1\n",
      "14  441771     Cheryl      Scott   92220         1         0\n",
      "15  528509      Paula       Diaz  152654         1         0\n",
      "16  912990     Joshua    Stewart  184896         0         1\n",
      "17  214352    Theresa        Lee  197537         1         0\n",
      "18  890290      Julia      Scott  141518         1         0\n",
      "19  622406     Thomas      Lewis   73862         0         1\n",
      "20  979607      Carol    Edwards   93967         1         0\n",
      "21  969580    Matthew     Turner   52237         0         1\n",
      "22  426038       Joan    Stewart  111673         1         0\n",
      "23  388642       Ruby     Rogers  160623         1         0\n",
      "24  560455    Carolyn      Hayes   42005         1         0\n",
      "25  477253       Anne    Russell  103160         1         0\n",
      "26  263480     Daniel     Cooper  153790         0         1\n",
      "27  683826      Roger    Roberts  129625         0         1\n",
      "28  474599      Maria     Walker   48944         1         0\n"
     ]
    }
   ],
   "source": [
    "from sklearn.preprocessing import OneHotEncoder\n",
    "ohe = OneHotEncoder()\n",
    "df3 = pd.DataFrame(ohe.fit_transform(data[[\"Gender\"]]).toarray())\n",
    "df3=pd.get_dummies(data[[\"Gender\"]])\n",
    "df_new=pd.concat([data['Emp ID'],data['First Name'],data['Last Name'],data['Salary'],df3],axis=1)\n",
    "print(df_new)"
   ]
  },
  {
   "cell_type": "code",
   "execution_count": null,
   "id": "6a34d065",
   "metadata": {},
   "outputs": [],
   "source": []
  }
 ],
 "metadata": {
  "kernelspec": {
   "display_name": "Python 3 (ipykernel)",
   "language": "python",
   "name": "python3"
  },
  "language_info": {
   "codemirror_mode": {
    "name": "ipython",
    "version": 3
   },
   "file_extension": ".py",
   "mimetype": "text/x-python",
   "name": "python",
   "nbconvert_exporter": "python",
   "pygments_lexer": "ipython3",
   "version": "3.9.16"
  }
 },
 "nbformat": 4,
 "nbformat_minor": 5
}
