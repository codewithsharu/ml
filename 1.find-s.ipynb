{
 "cells": [
  {
   "cell_type": "code",
   "execution_count": 2,
   "id": "08504b37-6d1f-4840-ba3e-a97475efbabd",
   "metadata": {},
   "outputs": [
    {
     "name": "stdout",
     "output_type": "stream",
     "text": [
      "Final Hypothesis: ['Sunny', 'Warm', '?', 'Strong', '?', '?']\n"
     ]
    }
   ],
   "source": [
    "import pandas as pd\n",
    "\n",
    "# Read the training data from the CSV file\n",
    "data = pd.read_csv('finds.csv')\n",
    "\n",
    "# Separate the features and target class\n",
    "X = data.iloc[:, :-1]\n",
    "y = data.iloc[:, -1]\n",
    "\n",
    "# Initialize the most specific hypothesis\n",
    "specific_hypothesis = ['0'] * len(X.columns)\n",
    "\n",
    "# Apply the FIND-S algorithm\n",
    "for i, instance in enumerate(X.values):\n",
    "    if y[i] == 'Yes':  # Modify as per your dataset's positive class label\n",
    "        for j in range(len(instance)):\n",
    "            if specific_hypothesis[j] == '0':  # First encounter\n",
    "                specific_hypothesis[j] = instance[j]\n",
    "            elif specific_hypothesis[j] != instance[j]:\n",
    "                specific_hypothesis[j] = '?'  # Generalize if they differ\n",
    "\n",
    "# Print the final hypothesis\n",
    "print(\"Final Hypothesis:\", specific_hypothesis)\n"
   ]
  },
  {
   "cell_type": "code",
   "execution_count": null,
   "id": "a11ca3b2-f0f7-4b15-896d-e8079c780127",
   "metadata": {},
   "outputs": [],
   "source": []
  }
 ],
 "metadata": {
  "kernelspec": {
   "display_name": "Python 3 (ipykernel)",
   "language": "python",
   "name": "python3"
  },
  "language_info": {
   "codemirror_mode": {
    "name": "ipython",
    "version": 3
   },
   "file_extension": ".py",
   "mimetype": "text/x-python",
   "name": "python",
   "nbconvert_exporter": "python",
   "pygments_lexer": "ipython3",
   "version": "3.12.4"
  }
 },
 "nbformat": 4,
 "nbformat_minor": 5
}
